{
 "cells": [
  {
   "cell_type": "markdown",
   "metadata": {},
   "source": [
    "### Install ES-Hadoop connector   \n",
    "1. [Download ES-Hadoop for Spark 2.0+](https://www.elastic.co/products/hadoop) We are using 5.2.0.\n",
    "2.  Add  either ***elasticsearch-hadoop-5.2.0.jar*** or  ***elasticsearch-spark-20_2.10-5.2.0.jar***  to Spark  classpath:\n",
    "  +  Edit  the  *conf/spark-env.sh* file  to add them  to classpath. For instance:\n",
    "      +  SPARK_CLASSPATH={SPARK_HOME}/jars/elasticsearch-hadoop/elasticsearch-hadoop-5.2.0.jar\n",
    "3.  [Using PySpark with ES-Hadoop](https://www.elastic.co/guide/en/elasticsearch/hadoop/current/spark.html)  \n",
    "\n",
    "  \n",
    "We are using Spark 2.1.0. If using Spark 1.6 or below, download the appropriate hadoop connector (2.4). "
   ]
  },
  {
   "cell_type": "code",
   "execution_count": 1,
   "metadata": {
    "collapsed": true
   },
   "outputs": [],
   "source": [
    "import os\n",
    "import sys\n",
    "\n",
    "sys.path.append(os.environ[\"SPARK_HOME\"] + \"/python/lib/py4j-0.10.4-src.zip\")\n",
    "sys.path.append(os.environ[\"SPARK_HOME\"] + \"/python/lib/pyspark.zip\")"
   ]
  },
  {
   "cell_type": "code",
   "execution_count": 2,
   "metadata": {
    "collapsed": false
   },
   "outputs": [],
   "source": [
    "from pyspark import SparkConf, SparkContext"
   ]
  },
  {
   "cell_type": "code",
   "execution_count": 3,
   "metadata": {
    "collapsed": false
   },
   "outputs": [],
   "source": [
    "sconf = SparkConf()\n",
    "sconf.setAppName(\"ES-Spark Integration\")\n",
    "sconf.setMaster(\"spark://snehasish-barmans-macbook.local:7077\")\n",
    "\n",
    "sc = SparkContext.getOrCreate(conf = sconf)"
   ]
  },
  {
   "cell_type": "code",
   "execution_count": 4,
   "metadata": {
    "collapsed": false
   },
   "outputs": [
    {
     "name": "stdout",
     "output_type": "stream",
     "text": [
      "<pyspark.context.SparkContext object at 0x103f14dd0>\n",
      "2.1.0\n"
     ]
    }
   ],
   "source": [
    "print sc\n",
    "print sc.version"
   ]
  },
  {
   "cell_type": "markdown",
   "metadata": {
    "collapsed": true
   },
   "source": [
    "## Goal:  Identify  3-sigma  deviation connections\n",
    "###  Construct  ES Query\n",
    "Query DSL (Here, we select connections between machines that operate within a restricted environment)"
   ]
  },
  {
   "cell_type": "code",
   "execution_count": 5,
   "metadata": {
    "collapsed": false
   },
   "outputs": [],
   "source": [
    "def getESQuery():\n",
    "    query = \"\"\"{\n",
    "        \"query\": {\n",
    "                \"filtered\": {\n",
    "                     \"query\": {\n",
    "                         \"match_all\": {}\n",
    "                      },\n",
    "                      \"filter\": {\n",
    "                          \"bool\": {\n",
    "                             \"must\": [\n",
    "                                 {\n",
    "                                    \"range\": {\n",
    "                                        \"@timestamp\" : {\n",
    "                                           \"gte\" : \"now-1h\",\n",
    "                                           \"lt\" : \"now\"\n",
    "                                        }\n",
    "                                    }\n",
    "                                 }\n",
    "                              ],\n",
    "                              \"should\": [\n",
    "                                 { \"term\": { \"src_addr_space\": \"private\" } },\n",
    "                                 { \"term\": { \"dst_addr_space\": \"private\" } }\n",
    "                              ]\n",
    "                          }\n",
    "                    }\n",
    "                }\n",
    "           },\n",
    "        \"_source\": [ \"netflow.ipv4_src_addr\", \"netflow.ipv4_dst_addr\" ]\n",
    "        }\"\"\"\n",
    "    return query"
   ]
  },
  {
   "cell_type": "markdown",
   "metadata": {},
   "source": [
    "###  Configure  ES  parameters \n",
    "* Mandatory: ES-host, ES-port,  ES-index, ES-query\n",
    "*  If  operating in a cloud/restricted environment and want to disable node discovery,  set ***es.nodes.discovery*** and  ***es.nodes.wan.only*** as shown below.\n",
    "*  [More Info here](https://www.elastic.co/guide/en/elasticsearch/hadoop/current/configuration.html)"
   ]
  },
  {
   "cell_type": "code",
   "execution_count": 6,
   "metadata": {
    "collapsed": true
   },
   "outputs": [],
   "source": [
    "ES_HOST = \"192.168.19.156\"\n",
    "ES_PORT = \"9200\"\n",
    "ES_INDEX = \"seceon_flows\"\n",
    "ES_QUERY = getESQuery()\n",
    "\n",
    "es_config = {\"es.nodes\": ES_HOST,\n",
    "             \"es.port\": ES_PORT,\n",
    "             \"es.resource\": ES_INDEX,\n",
    "             \"es.query\": ES_QUERY,\n",
    "             \"es.nodes.discovery\": \"false\",\n",
    "             \"es.nodes.wan.only\": \"true\"\n",
    "            }"
   ]
  },
  {
   "cell_type": "code",
   "execution_count": 7,
   "metadata": {
    "collapsed": false
   },
   "outputs": [],
   "source": [
    "esrdd = sc.newAPIHadoopRDD(inputFormatClass = \"org.elasticsearch.hadoop.mr.EsInputFormat\",\n",
    "                           keyClass = \"org.apache.hadoop.io.NullWritable\",\n",
    "                           valueClass = \"org.elasticsearch.hadoop.mr.LinkedMapWritable\",\n",
    "                           conf = es_config)"
   ]
  },
  {
   "cell_type": "markdown",
   "metadata": {},
   "source": [
    "ES returns key-value RDD where key is ***ID*** of the document, and value is content of ***_source*** field :  [(\"_id\", {}), ...]"
   ]
  },
  {
   "cell_type": "code",
   "execution_count": 8,
   "metadata": {
    "collapsed": false
   },
   "outputs": [
    {
     "name": "stdout",
     "output_type": "stream",
     "text": [
      "169\n",
      "4\n",
      "True\n",
      "Memory Serialized 1x Replicated\n"
     ]
    }
   ],
   "source": [
    "print esrdd.getNumPartitions()\n",
    "esrdd = esrdd.coalesce(4)\n",
    "print esrdd.getNumPartitions()\n",
    "\n",
    "esrdd.persist()\n",
    "print esrdd.is_cached\n",
    "print esrdd.getStorageLevel()"
   ]
  },
  {
   "cell_type": "code",
   "execution_count": 11,
   "metadata": {
    "collapsed": false
   },
   "outputs": [],
   "source": [
    "rdd1 = esrdd.sample(False, 0.01).mapValues( lambda x: {\"src\": x[\"netflow\"][\"ipv4_src_addr\"], \n",
    "                                                                    \"dst\": x[\"netflow\"][\"ipv4_dst_addr\"]} )"
   ]
  },
  {
   "cell_type": "code",
   "execution_count": 13,
   "metadata": {
    "collapsed": false
   },
   "outputs": [
    {
     "data": {
      "text/plain": [
       "[(u'AVoBSHYNfs3wJOjVaSze', {'dst': u'20.52.101.2', 'src': u'10.52.1.2'}),\n",
       " (u'AVoBSHYyfs3wJOjVaSzy', {'dst': u'20.52.101.3', 'src': u'10.52.1.3'}),\n",
       " (u'AVoBSMOtfs3wJOjVaS_8', {'dst': u'20.52.101.4', 'src': u'10.52.1.4'}),\n",
       " (u'AVoBSMPtfs3wJOjVaTBv', {'dst': u'20.52.101.6', 'src': u'10.52.1.6'})]"
      ]
     },
     "execution_count": 13,
     "metadata": {},
     "output_type": "execute_result"
    }
   ],
   "source": [
    "rdd1.take(4)"
   ]
  },
  {
   "cell_type": "markdown",
   "metadata": {},
   "source": [
    "Every JSON document  represents a connection between a  source IP and  destination IP."
   ]
  },
  {
   "cell_type": "code",
   "execution_count": 14,
   "metadata": {
    "collapsed": false
   },
   "outputs": [
    {
     "data": {
      "text/plain": [
       "1430"
      ]
     },
     "execution_count": 14,
     "metadata": {},
     "output_type": "execute_result"
    }
   ],
   "source": [
    "rdd1.countApprox(1000, 0.1)"
   ]
  },
  {
   "cell_type": "markdown",
   "metadata": {
    "collapsed": false
   },
   "source": [
    "####  List all the  unique ip addresses"
   ]
  },
  {
   "cell_type": "code",
   "execution_count": 15,
   "metadata": {
    "collapsed": false
   },
   "outputs": [
    {
     "name": "stdout",
     "output_type": "stream",
     "text": [
      "26\n",
      "[u'10.52.1.6', u'20.52.101.2', u'20.52.101.6', u'10.54.0.182', u'10.52.1.2', u'10.54.0.172', u'10.52.1.7', u'20.54.0.162', u'20.52.101.3', u'20.52.101.7', u'10.52.1.3', u'20.54.0.172', u'10.52.1.4', u'20.52.101.8', u'10.54.0.162', u'10.52.1.8', u'10.52.1.0', u'20.52.101.0', u'20.52.101.4', u'20.52.101.5', u'20.54.0.182', u'10.52.1.5', u'10.52.1.1', u'20.52.101.1', u'20.52.101.9', u'10.52.1.9']\n"
     ]
    }
   ],
   "source": [
    "print rdd1.flatMap( lambda x: [ x[1][\"src\"], x[1][\"dst\"] ] ).distinct().count()\n",
    "print rdd1.flatMap( lambda x: [ x[1][\"src\"], x[1][\"dst\"] ] ).distinct().collect()"
   ]
  },
  {
   "cell_type": "markdown",
   "metadata": {
    "collapsed": true
   },
   "source": [
    "#### Create  two columns\n",
    "*  rdd_incoming:  RDD of counts of incoming connections (received) for every IP\n",
    "*  rdd_outgoing:  RDD of counts of outgoing connections (sent) for every IP "
   ]
  },
  {
   "cell_type": "code",
   "execution_count": 16,
   "metadata": {
    "collapsed": false
   },
   "outputs": [],
   "source": [
    "rdd_outgoing = rdd1.map( lambda x: (x[1][\"src\"], 1) ).reduceByKey( lambda acc, x: acc + x )"
   ]
  },
  {
   "cell_type": "code",
   "execution_count": 17,
   "metadata": {
    "collapsed": false
   },
   "outputs": [
    {
     "data": {
      "text/plain": [
       "[(u'10.52.1.6', 7),\n",
       " (u'10.52.1.2', 9),\n",
       " (u'10.52.1.7', 9),\n",
       " (u'10.52.1.3', 13),\n",
       " (u'20.54.0.162', 1253),\n",
       " (u'10.52.1.4', 13),\n",
       " (u'20.54.0.172', 73),\n",
       " (u'10.52.1.8', 12),\n",
       " (u'10.52.1.0', 7),\n",
       " (u'10.52.1.5', 7),\n",
       " (u'20.54.0.182', 6),\n",
       " (u'10.52.1.9', 13),\n",
       " (u'10.52.1.1', 8)]"
      ]
     },
     "execution_count": 17,
     "metadata": {},
     "output_type": "execute_result"
    }
   ],
   "source": [
    "rdd_outgoing.collect()"
   ]
  },
  {
   "cell_type": "code",
   "execution_count": 18,
   "metadata": {
    "collapsed": false
   },
   "outputs": [
    {
     "data": {
      "text/plain": [
       "[(u'20.52.101.2', 9),\n",
       " (u'10.54.0.182', 6),\n",
       " (u'20.52.101.6', 7),\n",
       " (u'20.52.101.3', 13),\n",
       " (u'20.52.101.7', 9),\n",
       " (u'10.54.0.172', 73),\n",
       " (u'20.52.101.8', 12),\n",
       " (u'10.54.0.162', 1253),\n",
       " (u'20.52.101.0', 7),\n",
       " (u'20.52.101.4', 13),\n",
       " (u'20.52.101.9', 13),\n",
       " (u'20.52.101.1', 8),\n",
       " (u'20.52.101.5', 7)]"
      ]
     },
     "execution_count": 18,
     "metadata": {},
     "output_type": "execute_result"
    }
   ],
   "source": [
    "rdd_incoming = rdd1.map( lambda x: (x[1][\"dst\"], 1) ).reduceByKey( lambda acc, x: acc + x )\n",
    "rdd_incoming.collect()"
   ]
  },
  {
   "cell_type": "markdown",
   "metadata": {},
   "source": [
    "#### Join the two RDD's to create a dataframe like  structure"
   ]
  },
  {
   "cell_type": "code",
   "execution_count": 37,
   "metadata": {
    "collapsed": false
   },
   "outputs": [
    {
     "data": {
      "text/plain": [
       "[(u'10.52.1.6', (7, None)),\n",
       " (u'20.52.101.2', (None, 9)),\n",
       " (u'10.52.1.2', (9, None)),\n",
       " (u'10.54.0.182', (None, 6)),\n",
       " (u'20.52.101.6', (None, 7)),\n",
       " (u'10.52.1.7', (9, None)),\n",
       " (u'10.54.0.172', (None, 73)),\n",
       " (u'20.54.0.162', (1253, None)),\n",
       " (u'20.52.101.3', (None, 13)),\n",
       " (u'20.52.101.7', (None, 9)),\n",
       " (u'10.52.1.3', (13, None)),\n",
       " (u'20.54.0.172', (73, None)),\n",
       " (u'20.52.101.8', (None, 12)),\n",
       " (u'10.54.0.162', (None, 1253)),\n",
       " (u'10.52.1.4', (13, None)),\n",
       " (u'10.52.1.8', (12, None)),\n",
       " (u'10.52.1.0', (7, None)),\n",
       " (u'20.52.101.0', (None, 7)),\n",
       " (u'20.52.101.4', (None, 13)),\n",
       " (u'20.54.0.182', (6, None)),\n",
       " (u'10.52.1.5', (7, None)),\n",
       " (u'20.52.101.9', (None, 13)),\n",
       " (u'10.52.1.9', (13, None)),\n",
       " (u'10.52.1.1', (8, None)),\n",
       " (u'20.52.101.1', (None, 8)),\n",
       " (u'20.52.101.5', (None, 7))]"
      ]
     },
     "execution_count": 37,
     "metadata": {},
     "output_type": "execute_result"
    }
   ],
   "source": [
    "rdd_joined = rdd_outgoing.fullOuterJoin(rdd_incoming)\n",
    "rdd_joined.collect()"
   ]
  },
  {
   "cell_type": "markdown",
   "metadata": {},
   "source": [
    "#### Replace missing values with zeroes "
   ]
  },
  {
   "cell_type": "code",
   "execution_count": 38,
   "metadata": {
    "collapsed": false
   },
   "outputs": [
    {
     "data": {
      "text/plain": [
       "[(u'10.52.1.6', (7, 0)),\n",
       " (u'20.52.101.2', (0, 9)),\n",
       " (u'10.52.1.2', (9, 0)),\n",
       " (u'10.54.0.182', (0, 6)),\n",
       " (u'20.52.101.6', (0, 7)),\n",
       " (u'10.52.1.7', (9, 0)),\n",
       " (u'10.54.0.172', (0, 73)),\n",
       " (u'20.54.0.162', (1253, 0)),\n",
       " (u'20.52.101.3', (0, 13)),\n",
       " (u'20.52.101.7', (0, 9)),\n",
       " (u'10.52.1.3', (13, 0)),\n",
       " (u'20.54.0.172', (73, 0)),\n",
       " (u'20.52.101.8', (0, 12)),\n",
       " (u'10.54.0.162', (0, 1253)),\n",
       " (u'10.52.1.4', (13, 0)),\n",
       " (u'10.52.1.8', (12, 0)),\n",
       " (u'10.52.1.0', (7, 0)),\n",
       " (u'20.52.101.0', (0, 7)),\n",
       " (u'20.52.101.4', (0, 13)),\n",
       " (u'20.54.0.182', (6, 0)),\n",
       " (u'10.52.1.5', (7, 0)),\n",
       " (u'20.52.101.9', (0, 13)),\n",
       " (u'10.52.1.9', (13, 0)),\n",
       " (u'10.52.1.1', (8, 0)),\n",
       " (u'20.52.101.1', (0, 8)),\n",
       " (u'20.52.101.5', (0, 7))]"
      ]
     },
     "execution_count": 38,
     "metadata": {},
     "output_type": "execute_result"
    }
   ],
   "source": [
    "rdd_joined = rdd_joined.mapValues(lambda x: tuple([y if y is not None else 0 for y in x]))\n",
    "rdd_joined.collect()"
   ]
  },
  {
   "cell_type": "markdown",
   "metadata": {},
   "source": [
    "#### Gather statistics  on our dataset"
   ]
  },
  {
   "cell_type": "code",
   "execution_count": 54,
   "metadata": {
    "collapsed": false
   },
   "outputs": [
    {
     "name": "stdout",
     "output_type": "stream",
     "text": [
      "(count: 26, mean: 55.0, stdev: 240.011858681, max: 1253.0, min: 0.0)\n"
     ]
    }
   ],
   "source": [
    "src_stats = rdd_joined.map(lambda x: x[1][0]).stats() # outgoing(src)\n",
    "print src_stats"
   ]
  },
  {
   "cell_type": "code",
   "execution_count": 55,
   "metadata": {
    "collapsed": false
   },
   "outputs": [
    {
     "name": "stdout",
     "output_type": "stream",
     "text": [
      "(count: 26, mean: 55.0, stdev: 240.011858681, max: 1253.0, min: 0.0)\n"
     ]
    }
   ],
   "source": [
    "dst_stats = rdd_joined.map(lambda x: x[1][1]).stats() # incoming(dst)\n",
    "print dst_stats"
   ]
  },
  {
   "cell_type": "code",
   "execution_count": 57,
   "metadata": {
    "collapsed": true
   },
   "outputs": [],
   "source": [
    "src_stats_bc = sc.broadcast(src_stats)\n",
    "dst_stats_bc = sc.broadcast(dst_stats)"
   ]
  },
  {
   "cell_type": "code",
   "execution_count": 58,
   "metadata": {
    "collapsed": false
   },
   "outputs": [
    {
     "data": {
      "text/plain": [
       "(count: 26, mean: 55.0, stdev: 240.011858681, max: 1253.0, min: 0.0)"
      ]
     },
     "execution_count": 58,
     "metadata": {},
     "output_type": "execute_result"
    }
   ],
   "source": [
    "src_stats_bc.value"
   ]
  },
  {
   "cell_type": "markdown",
   "metadata": {},
   "source": [
    "#### Identify  IPs that  have  unusual  number of  outgoing or incoming connections"
   ]
  },
  {
   "cell_type": "code",
   "execution_count": 64,
   "metadata": {
    "collapsed": false
   },
   "outputs": [
    {
     "data": {
      "text/plain": [
       "[(u'20.54.0.162', (1253, 0))]"
      ]
     },
     "execution_count": 64,
     "metadata": {},
     "output_type": "execute_result"
    }
   ],
   "source": [
    "rdd_joined.filter(lambda x: x[1][0] > 0).filter( lambda x: (x[1][0] - src_stats_bc.value.mean()) > (3*src_stats_bc.value.stdev()) ).collect()"
   ]
  },
  {
   "cell_type": "code",
   "execution_count": 65,
   "metadata": {
    "collapsed": false
   },
   "outputs": [
    {
     "data": {
      "text/plain": [
       "[(u'10.54.0.162', (0, 1253))]"
      ]
     },
     "execution_count": 65,
     "metadata": {},
     "output_type": "execute_result"
    }
   ],
   "source": [
    "rdd_joined.filter(lambda x: x[1][1] > 0).filter( lambda x: (x[1][1] - dst_stats_bc.value.mean()) > (3*dst_stats_bc.value.stdev()) ).collect()"
   ]
  },
  {
   "cell_type": "markdown",
   "metadata": {},
   "source": [
    "####  Clean up"
   ]
  },
  {
   "cell_type": "code",
   "execution_count": 66,
   "metadata": {
    "collapsed": false
   },
   "outputs": [
    {
     "name": "stdout",
     "output_type": "stream",
     "text": [
      "False\n"
     ]
    }
   ],
   "source": [
    "src_stats_bc.unpersist()\n",
    "dst_stats_bc.unpersist()\n",
    "esrdd.unpersist()\n",
    "print esrdd.is_cached"
   ]
  },
  {
   "cell_type": "code",
   "execution_count": 67,
   "metadata": {
    "collapsed": true
   },
   "outputs": [],
   "source": [
    "sc.stop()"
   ]
  }
 ],
 "metadata": {
  "kernelspec": {
   "display_name": "Python 2",
   "language": "python",
   "name": "python2"
  },
  "language_info": {
   "codemirror_mode": {
    "name": "ipython",
    "version": 2
   },
   "file_extension": ".py",
   "mimetype": "text/x-python",
   "name": "python",
   "nbconvert_exporter": "python",
   "pygments_lexer": "ipython2",
   "version": "2.7.11"
  }
 },
 "nbformat": 4,
 "nbformat_minor": 2
}
